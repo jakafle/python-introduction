{
 "cells": [
  {
   "cell_type": "markdown",
   "id": "6fafaca3-2df5-4a71-ad59-f4ee09649bc5",
   "metadata": {},
   "source": [
    "This notebook is an introduction to python to suffice your need for laboratory data analysis. You will learn a more thorough programming introduction through the Mathematical and Computational Toolkit - MP1 course, so we won't cover those here. However, this walk-through will give you an overview of python programming language."
   ]
  },
  {
   "cell_type": "markdown",
   "id": "2b8de6aa-9704-40dd-8f02-b3727407a1a2",
   "metadata": {},
   "source": [
    "### Python\n",
    "\n",
    "Modern, general-purpose, object-oriented, high-level programming language. Rich ecosystem of scientific libraries: numpy, scipy, pandas, astropy, matplotlib for scientific computing and visualisation."
   ]
  },
  {
   "cell_type": "markdown",
   "id": "994b0639-8d29-4b36-af3b-741d394681e8",
   "metadata": {},
   "source": [
    "#### Checking python installation\n",
    "\n",
    "Run the following in terminal\n",
    "\n",
    "`$ python --version` or, `$ python3 --version`"
   ]
  },
  {
   "cell_type": "markdown",
   "id": "85e04dcf-5d69-4800-b415-6a44f0dacaa0",
   "metadata": {},
   "source": [
    "#### Installing Python\n",
    "\n",
    "##### Anaconda Installer\n",
    "\n",
    "If you do not want to go through all the hassle below, but want to install python directly with all the required packages, use Anaconda. Go to [Anaconda Download](https://www.anaconda.com/download) for the installers and instructions. This will bring a large curated set of scientific and data analysis packages, which you will need. However, if you want to install new packages, that takes time using `conda`.\n",
    "\n",
    "##### Othere installation methods\n",
    "\n",
    "For a fast installation process as well as universality across OSes, I recommend installing miniforge. It uses `mamba` instead of `conda` to install packages, which is faster in my experience. Go through the link [Miniforge Installation](https://github.com/conda-forge/miniforge), and download the installer for your operating system (Linux, Mac, Windows). For other easier options, see the Anaconda Installer section below.\n",
    "\n",
    "##### Linux and Mac\n",
    "\n",
    "Open your terminal and type `bash Miniforge3-<OS>-$<arch>.sh` and follow the instructions. When asked to add Miniforge3 to PATH variable, say `yes`.\n",
    "\n",
    "##### Windows\n",
    "\n",
    "Double click the installer and follow the instructions. You can add it to your PATH with the given option."
   ]
  },
  {
   "cell_type": "markdown",
   "id": "c69fbda1-f4e3-4e58-b70d-6ecd9a650e93",
   "metadata": {},
   "source": [
    "#### Installing Python Packages\n",
    "\n",
    "If you are using Anaconda, you do not need to install the required packages for this Lab. All the packages are installed during the main installation process.\n",
    "\n",
    "If you are using Miniforge, I recommend creating a new environment to install packages, which is fairly easy. Go to your terminal and type the following:\n",
    "\n",
    "``\n",
    "mamba create -n my_pyenv numpy scipy matplotlib astropy sympy pandas jupyterlab jupyter notebook statsmodel vpython numba\n",
    "``\n",
    "\n",
    "This is sufficient to get you up and running. "
   ]
  },
  {
   "cell_type": "markdown",
   "id": "7838b839-f8a2-4ca0-ac68-0613f970f857",
   "metadata": {},
   "source": [
    "#### Jupyter\n",
    "\n",
    "Jupyter is an open-source project, with several tools useful in interactive computing. `ipython` is an interactive shell and the popular jupyter notebook makes use of this interative feature. Jupyter notebook is a notebook document, where you can use code interactively and get the perks of visualisation directly. As we go through this session, you will see several aspects of a notebook, including various shortcuts to make our tasks easier. The notebook has `.ipynb` extension."
   ]
  },
  {
   "cell_type": "markdown",
   "id": "f82f48c8-3a01-452c-8671-8e9221618dbd",
   "metadata": {},
   "source": [
    "#### Let's start with Hello World!\n",
    "\n",
    "It's a common practice to write a first program in any language as a 'Hello, World!' program. So, we start with that; you will see how easy it is to do in python.\n",
    "\n",
    "`print()` function is something you will be using a lot to see your variables, which we will come back to later. To run the cell below, use `Shift + Enter` in your keyboard or the run button or the Run menu in the toolbar."
   ]
  },
  {
   "cell_type": "code",
   "execution_count": 1,
   "id": "c800a5e6-5c39-45d0-aa4c-8c52be5e8f27",
   "metadata": {},
   "outputs": [
    {
     "name": "stdout",
     "output_type": "stream",
     "text": [
      "Hello, World!\n"
     ]
    }
   ],
   "source": [
    "print(\"Hello, World!\")"
   ]
  },
  {
   "cell_type": "markdown",
   "id": "a134dbe0-dd07-4ca8-b68f-f0c3dd67c207",
   "metadata": {},
   "source": [
    "Voila! We have seen our first output. Now, we will go into packages needed for data analysis in the lab. Packages like numpy, matplotlib will be important when you're working with data and visualisations. These packages are pre-written scripts that you can call with your program to help you do the relevant task. Let's first see how to import a package.\n",
    "\n",
    "Say, you want the value of the constant $\\pi$. Run the following cell using the instructions as above."
   ]
  },
  {
   "cell_type": "code",
   "execution_count": 2,
   "id": "15d0586a-ab60-4b1a-b6b1-18e8648c55f0",
   "metadata": {},
   "outputs": [
    {
     "ename": "NameError",
     "evalue": "name 'pi' is not defined",
     "output_type": "error",
     "traceback": [
      "\u001b[0;31m---------------------------------------------------------------------------\u001b[0m",
      "\u001b[0;31mNameError\u001b[0m                                 Traceback (most recent call last)",
      "Cell \u001b[0;32mIn[2], line 1\u001b[0m\n\u001b[0;32m----> 1\u001b[0m \u001b[43mpi\u001b[49m\n",
      "\u001b[0;31mNameError\u001b[0m: name 'pi' is not defined"
     ]
    }
   ],
   "source": [
    "pi"
   ]
  },
  {
   "cell_type": "markdown",
   "id": "0e6b6f3f-5c57-4959-9d70-fea66c3013aa",
   "metadata": {},
   "source": [
    "Well, you have gotten your first python error! Get used to errors; this will not be your last.\n",
    "\n",
    "You have asked Python to do something, and it does not understand what it is you have asked of it. As a result, it tells you where *it* thinks there's a problem and what the problem is (it's often right, but not always).\n",
    "\n",
    "In this case, it says the problem is on line 1 of the cell (`----> 1 pi`) and the error is that it does not understand what you mean by `pi`.\n",
    "\n",
    "Now compile the cell below:"
   ]
  },
  {
   "cell_type": "code",
   "execution_count": 3,
   "id": "785cde56-f04b-4618-a238-eff4a50dff64",
   "metadata": {},
   "outputs": [
    {
     "data": {
      "text/plain": [
       "3.141592653589793"
      ]
     },
     "execution_count": 3,
     "metadata": {},
     "output_type": "execute_result"
    }
   ],
   "source": [
    "import math\n",
    "math.pi"
   ]
  },
  {
   "cell_type": "markdown",
   "id": "49182ed4-7d05-466a-b1b0-9252bb444d50",
   "metadata": {},
   "source": [
    "Here, we imported the `math` package, which has a collection of standard mathematical values and functions. It contains, among other things, the value of `pi`, which we call by calling `math.pi`. \n",
    "\n",
    "Some packages have horribly long names, and it would be quite cumbersome to have to type them out everytime, so we give them 'nicknames'. \n",
    "\n",
    "See if you can understand the following code snippet:"
   ]
  },
  {
   "cell_type": "code",
   "execution_count": 4,
   "id": "cc4ac381-fcff-471e-ab6c-509c01908873",
   "metadata": {},
   "outputs": [
    {
     "data": {
      "text/plain": [
       "3.141592653589793"
      ]
     },
     "execution_count": 4,
     "metadata": {},
     "output_type": "execute_result"
    }
   ],
   "source": [
    "# import the math library\n",
    "import math as m\n",
    "m.pi"
   ]
  },
  {
   "cell_type": "markdown",
   "id": "bf86c602-8ea4-4941-bb4f-92b57806185f",
   "metadata": {},
   "source": [
    "#### Python files\n",
    "\n",
    "You might come across with `.py` files while working with python. These are text files which contain python code. Every line in a python program file is assumed to be a python statement.\n",
    "\n",
    "##### Comments\n",
    "\n",
    "To comment some part of code, we start the comment with the character `#`.\n",
    "\n",
    "##### Running a python program\n",
    "\n",
    "To run a python program from the command line, use:\n",
    "\n",
    "``$ python myfile.py``\n",
    "\n",
    "##### Back to notebook\n",
    "\n",
    "This file does not follow the standard pattern with python code in a text file. The notebook document is stored in a JSON format, giving us an advantage of using formatted text, python code, and the output. All the text displayed to you is based on markdown language."
   ]
  },
  {
   "cell_type": "markdown",
   "id": "bdc7bf7f-7b02-4b5a-9a13-99eb1bf1dfe2",
   "metadata": {},
   "source": [
    "#### Deep dive into Python packages\n",
    "\n",
    "Rest of the notebook, we'll now look into the packages numpy, scipy and matplotlib. First, you might want to see the version of the packages you are using. To do that, you can use the following syntax."
   ]
  },
  {
   "cell_type": "code",
   "execution_count": 5,
   "id": "e78865d4-83f7-4b71-a5fa-75bb4d792b0d",
   "metadata": {},
   "outputs": [
    {
     "data": {
      "text/plain": [
       "'1.25.2'"
      ]
     },
     "execution_count": 5,
     "metadata": {},
     "output_type": "execute_result"
    }
   ],
   "source": [
    "# np is the usual nickname we give to numpy\n",
    "import numpy as np\n",
    "np.__version__"
   ]
  },
  {
   "cell_type": "markdown",
   "id": "fb9530fe-d29f-4e1d-964f-0bc96a37800a",
   "metadata": {},
   "source": [
    "If you are not sure what the packages are used for and the modules they contain, you can use the `package?` to get the manual."
   ]
  },
  {
   "cell_type": "code",
   "execution_count": 6,
   "id": "1be4eefa-c7a2-49b3-89c7-8db4c80e2727",
   "metadata": {},
   "outputs": [
    {
     "data": {
      "text/plain": [
       "\u001b[0;31mType:\u001b[0m        module\n",
       "\u001b[0;31mString form:\u001b[0m <module 'numpy' from '/home/athene/.local/opt/miniforge3/envs/scenv/lib/python3.11/site-packages/numpy/__init__.py'>\n",
       "\u001b[0;31mFile:\u001b[0m        ~/.local/opt/miniforge3/envs/scenv/lib/python3.11/site-packages/numpy/__init__.py\n",
       "\u001b[0;31mDocstring:\u001b[0m  \n",
       "NumPy\n",
       "=====\n",
       "\n",
       "Provides\n",
       "  1. An array object of arbitrary homogeneous items\n",
       "  2. Fast mathematical operations over arrays\n",
       "  3. Linear Algebra, Fourier Transforms, Random Number Generation\n",
       "\n",
       "How to use the documentation\n",
       "----------------------------\n",
       "Documentation is available in two forms: docstrings provided\n",
       "with the code, and a loose standing reference guide, available from\n",
       "`the NumPy homepage <https://numpy.org>`_.\n",
       "\n",
       "We recommend exploring the docstrings using\n",
       "`IPython <https://ipython.org>`_, an advanced Python shell with\n",
       "TAB-completion and introspection capabilities.  See below for further\n",
       "instructions.\n",
       "\n",
       "The docstring examples assume that `numpy` has been imported as ``np``::\n",
       "\n",
       "  >>> import numpy as np\n",
       "\n",
       "Code snippets are indicated by three greater-than signs::\n",
       "\n",
       "  >>> x = 42\n",
       "  >>> x = x + 1\n",
       "\n",
       "Use the built-in ``help`` function to view a function's docstring::\n",
       "\n",
       "  >>> help(np.sort)\n",
       "  ... # doctest: +SKIP\n",
       "\n",
       "For some objects, ``np.info(obj)`` may provide additional help.  This is\n",
       "particularly true if you see the line \"Help on ufunc object:\" at the top\n",
       "of the help() page.  Ufuncs are implemented in C, not Python, for speed.\n",
       "The native Python help() does not know how to view their help, but our\n",
       "np.info() function does.\n",
       "\n",
       "To search for documents containing a keyword, do::\n",
       "\n",
       "  >>> np.lookfor('keyword')\n",
       "  ... # doctest: +SKIP\n",
       "\n",
       "General-purpose documents like a glossary and help on the basic concepts\n",
       "of numpy are available under the ``doc`` sub-module::\n",
       "\n",
       "  >>> from numpy import doc\n",
       "  >>> help(doc)\n",
       "  ... # doctest: +SKIP\n",
       "\n",
       "Available subpackages\n",
       "---------------------\n",
       "lib\n",
       "    Basic functions used by several sub-packages.\n",
       "random\n",
       "    Core Random Tools\n",
       "linalg\n",
       "    Core Linear Algebra Tools\n",
       "fft\n",
       "    Core FFT routines\n",
       "polynomial\n",
       "    Polynomial tools\n",
       "testing\n",
       "    NumPy testing tools\n",
       "distutils\n",
       "    Enhancements to distutils with support for\n",
       "    Fortran compilers support and more.\n",
       "\n",
       "Utilities\n",
       "---------\n",
       "test\n",
       "    Run numpy unittests\n",
       "show_config\n",
       "    Show numpy build configuration\n",
       "matlib\n",
       "    Make everything matrices.\n",
       "__version__\n",
       "    NumPy version string\n",
       "\n",
       "Viewing documentation using IPython\n",
       "-----------------------------------\n",
       "\n",
       "Start IPython and import `numpy` usually under the alias ``np``: `import\n",
       "numpy as np`.  Then, directly past or use the ``%cpaste`` magic to paste\n",
       "examples into the shell.  To see which functions are available in `numpy`,\n",
       "type ``np.<TAB>`` (where ``<TAB>`` refers to the TAB key), or use\n",
       "``np.*cos*?<ENTER>`` (where ``<ENTER>`` refers to the ENTER key) to narrow\n",
       "down the list.  To view the docstring for a function, use\n",
       "``np.cos?<ENTER>`` (to view the docstring) and ``np.cos??<ENTER>`` (to view\n",
       "the source code).\n",
       "\n",
       "Copies vs. in-place operation\n",
       "-----------------------------\n",
       "Most of the functions in `numpy` return a copy of the array argument\n",
       "(e.g., `np.sort`).  In-place versions of these functions are often\n",
       "available as array methods, i.e. ``x = np.array([1,2,3]); x.sort()``.\n",
       "Exceptions to this rule are documented."
      ]
     },
     "metadata": {},
     "output_type": "display_data"
    }
   ],
   "source": [
    "np?"
   ]
  },
  {
   "cell_type": "markdown",
   "id": "64022005-4d6b-4ee8-8286-af9fb0c4c7b0",
   "metadata": {},
   "source": [
    "#### Variables and Operators"
   ]
  },
  {
   "cell_type": "code",
   "execution_count": 7,
   "id": "ccb6a08a-2a55-4026-bf3d-d5c21cf384a6",
   "metadata": {},
   "outputs": [
    {
     "name": "stdout",
     "output_type": "stream",
     "text": [
      "1.0 9.8\n"
     ]
    }
   ],
   "source": [
    "# assignment of variables\n",
    "x = 1.0\n",
    "g = 9.8 # m/s^2\n",
    "print(x,g)"
   ]
  },
  {
   "cell_type": "markdown",
   "id": "c0a3b62f-c468-48fc-a813-19e98dc2ced3",
   "metadata": {},
   "source": [
    "We might want to format the output in a more presentable way. A good way is to use the format string."
   ]
  },
  {
   "cell_type": "code",
   "execution_count": 8,
   "id": "2c43652e-9d56-4f11-807a-e32f723b7a04",
   "metadata": {},
   "outputs": [
    {
     "name": "stdout",
     "output_type": "stream",
     "text": [
      "The value of g is 9.8 m/s^2.\n"
     ]
    }
   ],
   "source": [
    "print(f\"The value of g is {g} m/s^2.\")"
   ]
  },
  {
   "cell_type": "markdown",
   "id": "f703c9f3-4389-4c57-bbfc-2e8c4f823cec",
   "metadata": {},
   "source": [
    "##### Variable Types"
   ]
  },
  {
   "cell_type": "code",
   "execution_count": 9,
   "id": "a51a23b6-2487-41b1-b558-d435f5d4b844",
   "metadata": {},
   "outputs": [
    {
     "data": {
      "text/plain": [
       "int"
      ]
     },
     "execution_count": 9,
     "metadata": {},
     "output_type": "execute_result"
    }
   ],
   "source": [
    "# integers\n",
    "x = 1\n",
    "type(x)"
   ]
  },
  {
   "cell_type": "code",
   "execution_count": 10,
   "id": "d0fa03e3-7d01-4f02-b769-a60265d13f6d",
   "metadata": {},
   "outputs": [
    {
     "data": {
      "text/plain": [
       "float"
      ]
     },
     "execution_count": 10,
     "metadata": {},
     "output_type": "execute_result"
    }
   ],
   "source": [
    "# float\n",
    "x = 1.0\n",
    "type(x)"
   ]
  },
  {
   "cell_type": "code",
   "execution_count": 11,
   "id": "15726798-22bc-4a95-ae60-54a1f4194fc0",
   "metadata": {},
   "outputs": [
    {
     "data": {
      "text/plain": [
       "bool"
      ]
     },
     "execution_count": 11,
     "metadata": {},
     "output_type": "execute_result"
    }
   ],
   "source": [
    "# boolean\n",
    "b1 = True\n",
    "type(b1)"
   ]
  },
  {
   "cell_type": "code",
   "execution_count": 12,
   "id": "c2660ee8-a890-49eb-a8f6-ce1924f53235",
   "metadata": {},
   "outputs": [
    {
     "name": "stdout",
     "output_type": "stream",
     "text": [
      "(1+1j) <class 'complex'>\n",
      "1.0 1.0\n"
     ]
    }
   ],
   "source": [
    "# complex numbers\n",
    "x = 1.0 + 1.0j\n",
    "print(x, type(x))\n",
    "print(x.real, x.imag)"
   ]
  },
  {
   "cell_type": "markdown",
   "id": "3690fb3b-f82e-47eb-85a7-8f7f45ca87f1",
   "metadata": {},
   "source": [
    "##### Operators\n",
    "\n",
    "Arithmetic operators: `+`, `-`, `*`, `/`, `//` (integer division), `**` power\n",
    "\n",
    "Boolean operators: `and`, `not`, `or`\n",
    "\n",
    "Comparison operators: `>` greater, `<` less, `>=` greater or equal, `<=` less or equal, `==` equality, `is` identical"
   ]
  },
  {
   "cell_type": "code",
   "execution_count": 13,
   "id": "88184499-6bd9-4a07-9d0c-e4bbd65c9bd0",
   "metadata": {},
   "outputs": [
    {
     "name": "stdout",
     "output_type": "stream",
     "text": [
      "3 3.0 1.5 1.0 4\n"
     ]
    }
   ],
   "source": [
    "# arithmetic operators\n",
    "print(1 + 2, 1.0 + 2.0, 3 / 2, 3.0 // 2.0, 2 ** 2)"
   ]
  },
  {
   "cell_type": "code",
   "execution_count": 14,
   "id": "8c5a5cb8-3645-4a12-b79e-1322d5546223",
   "metadata": {},
   "outputs": [
    {
     "name": "stdout",
     "output_type": "stream",
     "text": [
      "False True True\n"
     ]
    }
   ],
   "source": [
    "# booloean operators\n",
    "print(True and False, not False, True or False)"
   ]
  },
  {
   "cell_type": "code",
   "execution_count": 15,
   "id": "4ccefd1b-846a-494b-94f9-704c5da66d48",
   "metadata": {},
   "outputs": [
    {
     "name": "stdout",
     "output_type": "stream",
     "text": [
      "True True\n"
     ]
    }
   ],
   "source": [
    "# comparison operators\n",
    "print(2 > 1, 5 == 5)"
   ]
  },
  {
   "cell_type": "code",
   "execution_count": 16,
   "id": "e42889ca-7323-4ce6-b241-da78f33d10a6",
   "metadata": {},
   "outputs": [
    {
     "data": {
      "text/plain": [
       "True"
      ]
     },
     "execution_count": 16,
     "metadata": {},
     "output_type": "execute_result"
    }
   ],
   "source": [
    "x = 1\n",
    "y = 1\n",
    "x is y"
   ]
  },
  {
   "cell_type": "markdown",
   "id": "42467ad5-3b48-46cd-a5bb-2df50f4b1193",
   "metadata": {},
   "source": [
    "#### Strings and Lists"
   ]
  },
  {
   "cell_type": "code",
   "execution_count": 17,
   "id": "a37ba832-7e97-49ab-9dac-21016941d36c",
   "metadata": {},
   "outputs": [],
   "source": [
    "##### Strings"
   ]
  },
  {
   "cell_type": "code",
   "execution_count": 18,
   "id": "426d32c3-e321-47f8-bc7b-2a0ebb091021",
   "metadata": {},
   "outputs": [
    {
     "name": "stdout",
     "output_type": "stream",
     "text": [
      "Hello world <class 'str'> 11\n"
     ]
    }
   ],
   "source": [
    "s = \"Hello world\"\n",
    "print(s, type(s), len(s))"
   ]
  },
  {
   "cell_type": "code",
   "execution_count": 19,
   "id": "2e94717a-6ebd-4370-bbf5-5fe1cd477124",
   "metadata": {},
   "outputs": [
    {
     "name": "stdout",
     "output_type": "stream",
     "text": [
      "H\n",
      "Hello\n",
      "Hlwl\n"
     ]
    }
   ],
   "source": [
    "# indexing a string\n",
    "print(s[0])\n",
    "# extracting part of string\n",
    "print(s[0:5])\n",
    "# slicing\n",
    "print(s[0::3])"
   ]
  },
  {
   "cell_type": "markdown",
   "id": "7f987871-34b0-4b75-b120-a1f947985974",
   "metadata": {},
   "source": [
    "##### Lists\n",
    "\n",
    "Lists are similar to strings, and you will be seeing them a lot as you work with python. To create a list, you can use `[...]`."
   ]
  },
  {
   "cell_type": "code",
   "execution_count": 20,
   "id": "c6da3df8-ccfb-4017-980c-c29c10c55a97",
   "metadata": {},
   "outputs": [
    {
     "name": "stdout",
     "output_type": "stream",
     "text": [
      "['red', 'green', 'blue']\n"
     ]
    }
   ],
   "source": [
    "# a list of colors\n",
    "colors = ['red', 'green', 'blue']\n",
    "print(colors)"
   ]
  },
  {
   "cell_type": "markdown",
   "id": "d312408b-4df6-4311-8194-a8bd9be14046",
   "metadata": {},
   "source": [
    "As we will be mostly dealing with numbers, we will now converge towards numbers."
   ]
  },
  {
   "cell_type": "code",
   "execution_count": 21,
   "id": "87d01a67-9576-4a19-86bc-8c6842611488",
   "metadata": {},
   "outputs": [
    {
     "name": "stdout",
     "output_type": "stream",
     "text": [
      "[1, 3, 5, 7, 9]\n"
     ]
    }
   ],
   "source": [
    "# list of first 5 odd numbers\n",
    "odd = [1,3,5,7,9]\n",
    "print(odd)"
   ]
  },
  {
   "cell_type": "code",
   "execution_count": 22,
   "id": "476eb775-2786-4e07-881e-77eb58d9aeae",
   "metadata": {},
   "outputs": [
    {
     "name": "stdout",
     "output_type": "stream",
     "text": [
      "1\n"
     ]
    }
   ],
   "source": [
    "# extracting elements from the list\n",
    "first_odd = odd[0]\n",
    "print(first_odd)"
   ]
  },
  {
   "cell_type": "code",
   "execution_count": 23,
   "id": "2b1a78f1-c120-443c-8c60-ee62cbfc36c1",
   "metadata": {},
   "outputs": [
    {
     "name": "stdout",
     "output_type": "stream",
     "text": [
      "[2, 4, 6, 8, 10, 12, 14, 16, 18]\n"
     ]
    }
   ],
   "source": [
    "# Creating a range using range(start, stop, step)\n",
    "\n",
    "# generate even numbers till 20\n",
    "even = list(range(2,20,2))\n",
    "print(even)"
   ]
  },
  {
   "cell_type": "code",
   "execution_count": 24,
   "id": "f74fd693-d9d3-423e-8d82-e4433db089d6",
   "metadata": {},
   "outputs": [
    {
     "name": "stdout",
     "output_type": "stream",
     "text": [
      "[2, 4, 6, 8, 10, 12, 14, 16, 18, 20]\n"
     ]
    }
   ],
   "source": [
    "# adding elements to the list\n",
    "even.append(20)\n",
    "print(even)"
   ]
  },
  {
   "cell_type": "code",
   "execution_count": 25,
   "id": "a9085d59-9327-4cd1-aa19-56fcf91b3f13",
   "metadata": {},
   "outputs": [
    {
     "name": "stdout",
     "output_type": "stream",
     "text": [
      "[2, 4, 6, 8, 10, 12, 14, 16, 18]\n"
     ]
    }
   ],
   "source": [
    "even.remove(20)\n",
    "print(even)"
   ]
  },
  {
   "cell_type": "markdown",
   "id": "778a3783-aa42-43b1-9794-a67dfd7d13c5",
   "metadata": {},
   "source": [
    "#### Control Flow\n",
    "\n",
    "#### Conditional statements: if, elif, else\n",
    "\n",
    "While working with data, sometimes you might want to flag your data based on some conditions, or compare with some known values and perform some operations. In these cases, conditional statements can be useful."
   ]
  },
  {
   "cell_type": "code",
   "execution_count": 26,
   "id": "1feaf1bc-9c92-4139-9e35-c000e3335ea1",
   "metadata": {},
   "outputs": [
    {
     "name": "stdout",
     "output_type": "stream",
     "text": [
      "1 is odd.\n"
     ]
    }
   ],
   "source": [
    "x = 1\n",
    "if x % 2 == 0:\n",
    "    print(f\"{x} is even.\")\n",
    "else:\n",
    "    print(f\"{x} is odd.\")"
   ]
  },
  {
   "cell_type": "markdown",
   "id": "277094a9-fd5e-4122-b3d6-0bd15ee690aa",
   "metadata": {},
   "source": [
    "`elif` is used when you have more than three conditions.\n",
    "\n",
    "While coding in python, be careful of the intendations (usually a tab or four white spaces). This defines the semantics of our code and you will get an error if you do not follow the intendation rule."
   ]
  },
  {
   "cell_type": "markdown",
   "id": "aebe2e94-b15f-41a9-b8c0-ab44bb81996f",
   "metadata": {},
   "source": [
    "#### Loops\n",
    "\n",
    "##### `for` Loops\n",
    "\n",
    "We can iterate over the elements of the list and execute the intended code block once for each element using a `for` loop."
   ]
  },
  {
   "cell_type": "code",
   "execution_count": 27,
   "id": "5cd46596-1065-4b30-a723-d9dfd93a7020",
   "metadata": {},
   "outputs": [
    {
     "name": "stdout",
     "output_type": "stream",
     "text": [
      "0\n",
      "1\n",
      "2\n",
      "3\n",
      "4\n"
     ]
    }
   ],
   "source": [
    "# print first five whole numbers\n",
    "for i in range(5):\n",
    "    print(i)"
   ]
  },
  {
   "cell_type": "code",
   "execution_count": 28,
   "id": "a4e61152-2916-4846-858f-b0c10ba8707d",
   "metadata": {},
   "outputs": [
    {
     "name": "stdout",
     "output_type": "stream",
     "text": [
      "1\n",
      "3\n",
      "5\n",
      "7\n",
      "9\n"
     ]
    }
   ],
   "source": [
    "for i in [1,3,5,7,9]:\n",
    "    print(i)"
   ]
  },
  {
   "cell_type": "code",
   "execution_count": 29,
   "id": "59f44e13-83cb-485c-9cd2-5de1d91c11a0",
   "metadata": {},
   "outputs": [
    {
     "name": "stdout",
     "output_type": "stream",
     "text": [
      "Welcome\n",
      "to\n",
      "Physics\n",
      "Lab\n"
     ]
    }
   ],
   "source": [
    "for word in [\"Welcome\", \"to\", \"Physics\", \"Lab\",]:\n",
    "    print(word)"
   ]
  },
  {
   "cell_type": "code",
   "execution_count": 30,
   "id": "b2a2d944-d23e-42e3-a949-7ee292463d6f",
   "metadata": {},
   "outputs": [
    {
     "name": "stdout",
     "output_type": "stream",
     "text": [
      "[1, 4, 9, 16]\n"
     ]
    }
   ],
   "source": [
    "# creating lists using for loops (list comprehensions)\n",
    "\n",
    "squares = [x**2 for x in range(1,5)]\n",
    "print(squares)"
   ]
  },
  {
   "cell_type": "markdown",
   "id": "bc46adef-8955-41e5-a981-da17a7f69642",
   "metadata": {},
   "source": [
    "##### `while` Loops"
   ]
  },
  {
   "cell_type": "code",
   "execution_count": 31,
   "id": "cda8f45c-975b-40a2-8e78-a8a80c5cb1db",
   "metadata": {},
   "outputs": [
    {
     "name": "stdout",
     "output_type": "stream",
     "text": [
      "0\n",
      "1\n",
      "2\n",
      "3\n",
      "4\n",
      "Done\n"
     ]
    }
   ],
   "source": [
    "# initialise the counter variable\n",
    "i = 0\n",
    "\n",
    "while i < 5:\n",
    "    print(i)\n",
    "    i = i + 1\n",
    "    \n",
    "print(\"Done\")"
   ]
  },
  {
   "cell_type": "markdown",
   "id": "eaf551ff-0d16-4ae3-83a4-50c072f5b25c",
   "metadata": {},
   "source": [
    "#### Functions\n",
    "\n",
    "You have been using `print` function throughout the notebook. You can also create your own function in python.\n",
    "\n",
    "A function in Python can be defined using the keyword `def`, followed by a function name, arguments (if any) within parentheses `()`, and a colon `:`. Let's try a simple example to give you a framework.\n",
    "\n",
    "You can print the square of a number using the `**` operator. Let's create a function using the `*` operator to do so and see the results."
   ]
  },
  {
   "cell_type": "code",
   "execution_count": 32,
   "id": "f558b538-c112-4066-8401-0d4eb6f2e363",
   "metadata": {},
   "outputs": [
    {
     "name": "stdout",
     "output_type": "stream",
     "text": [
      "25\n",
      "25\n"
     ]
    }
   ],
   "source": [
    "# function to print the square\n",
    "def square(n):\n",
    "    \"\"\"\n",
    "    Return the square of n\n",
    "    \"\"\"\n",
    "    n_sq = n*n\n",
    "    return n_sq\n",
    "\n",
    "# see the square of 5\n",
    "sq_5 = 5**2\n",
    "print(sq_5)\n",
    "\n",
    "# use your function\n",
    "sq_own = square(5)\n",
    "print(sq_own)"
   ]
  },
  {
   "cell_type": "markdown",
   "id": "379fedb8-ce0d-4433-91c9-0990c4505319",
   "metadata": {},
   "source": [
    "Usually we return some values from the function using the `return` keyword, in this case, we are returning the square of a number. In the triple quote, we have something called `docstring`, which describes the function's purpose and behaviour. When you generate documentation, this docstring is used."
   ]
  },
  {
   "cell_type": "code",
   "execution_count": 33,
   "id": "41d33277-55ed-408c-9e19-a0006bd52b3e",
   "metadata": {},
   "outputs": [
    {
     "data": {
      "text/plain": [
       "\u001b[0;31mSignature:\u001b[0m \u001b[0msquare\u001b[0m\u001b[0;34m(\u001b[0m\u001b[0mn\u001b[0m\u001b[0;34m)\u001b[0m\u001b[0;34m\u001b[0m\u001b[0;34m\u001b[0m\u001b[0m\n",
       "\u001b[0;31mDocstring:\u001b[0m Return the square of n\n",
       "\u001b[0;31mFile:\u001b[0m      /tmp/ipykernel_20111/137247750.py\n",
       "\u001b[0;31mType:\u001b[0m      function"
      ]
     },
     "metadata": {},
     "output_type": "display_data"
    }
   ],
   "source": [
    "square?"
   ]
  },
  {
   "cell_type": "code",
   "execution_count": 34,
   "id": "51d3cc7c-09ce-4eac-b69c-5638463357ea",
   "metadata": {},
   "outputs": [
    {
     "name": "stdout",
     "output_type": "stream",
     "text": [
      "Help on function square in module __main__:\n",
      "\n",
      "square(n)\n",
      "    Return the square of n\n",
      "\n"
     ]
    }
   ],
   "source": [
    "help(square)"
   ]
  },
  {
   "cell_type": "markdown",
   "id": "cfc1247d-0410-4d55-9c3c-09b2865a32e3",
   "metadata": {},
   "source": [
    "### Numpy"
   ]
  },
  {
   "cell_type": "markdown",
   "id": "1cf06c16-fc36-488a-9662-c703f22fa700",
   "metadata": {},
   "source": [
    "`numpy` package will be your bread and butter for scientific computing. It provides high-performance vecotr, matrix, and higher-dimensional data strcutures for Python. Implemented in C and Fortran so when vectorised, it is much faster than noormal lists.\n",
    "\n",
    "`numpy` has a terminology used for vectors, matrices and higher dimensional data sets, known as `arrays`. When doing arithmetic operations on your datasets, you will be working with arrays mostly."
   ]
  },
  {
   "cell_type": "markdown",
   "id": "fbafd116-64a3-45bc-8681-e9165dc0de9d",
   "metadata": {},
   "source": [
    "#### Creating arrays\n",
    "\n",
    "There are several ways of creating arrays.\n",
    "\n",
    "- Using Python lists\n",
    "- Using `arange`, `linspace` functions in numpy\n",
    "- From data files like `csv, txt, dsv, tsv`"
   ]
  },
  {
   "cell_type": "code",
   "execution_count": 35,
   "id": "77d32fa6-4728-4a80-a022-8d707b84148d",
   "metadata": {},
   "outputs": [],
   "source": [
    "# first import numpy\n",
    "import numpy as np"
   ]
  },
  {
   "cell_type": "code",
   "execution_count": 50,
   "id": "b4253bf8-fd61-41a2-a163-9523c3e4880d",
   "metadata": {},
   "outputs": [
    {
     "name": "stdout",
     "output_type": "stream",
     "text": [
      "Array from List:\n",
      " [1 2 3 4]\n",
      "Matrix from lists:\n",
      " [[1 2]\n",
      " [3 4]]\n",
      "<class 'numpy.ndarray'> <class 'numpy.ndarray'>\n"
     ]
    }
   ],
   "source": [
    "# from lists\n",
    "my_arr = np.array([1,2,3,4])\n",
    "print(f\"Array from List:\\n {my_arr}\")\n",
    "\n",
    "# creating a matrix\n",
    "M = np.array([[1,2], [3,4]])\n",
    "print(f\"Matrix from lists:\\n {M}\")\n",
    "\n",
    "# see the type of the two arrays\n",
    "print(type(my_arr), type(M))"
   ]
  },
  {
   "cell_type": "code",
   "execution_count": 57,
   "id": "325bf071-959e-4310-b6f7-1093883ddfaa",
   "metadata": {},
   "outputs": [
    {
     "name": "stdout",
     "output_type": "stream",
     "text": [
      "Size of my_arr is 4 and M is 4.\n",
      "Shape of my_arr is (4,) and M is (2, 2).\n"
     ]
    }
   ],
   "source": [
    "# shape and size of array\n",
    "print(f\"Size of my_arr is {np.size(my_arr)} and M is {np.size(M)}.\")\n",
    "print(f\"Shape of my_arr is {np.shape(my_arr)} and M is {np.shape(M)}.\")"
   ]
  },
  {
   "cell_type": "markdown",
   "id": "1c83258d-92f5-497a-8cea-b4e6464be9f1",
   "metadata": {},
   "source": [
    "We see that `size` gives the number of element in the arry and `shape` gives the shape of the array (how many elements in each dimensions)."
   ]
  },
  {
   "cell_type": "markdown",
   "id": "969d4906-65ec-4fd0-aa64-076382240f26",
   "metadata": {},
   "source": [
    "You might say that these arrays look like lists, so why do not we use lists themselves. Several factors are there:\n",
    "\n",
    "- Lists are general; you can mix data types in Python Lists.\n",
    "- Arrays are memory efficient and you can perform mathematical operations on it."
   ]
  },
  {
   "cell_type": "code",
   "execution_count": 62,
   "id": "1fce4991-d6cd-4047-9758-d9ab7d714317",
   "metadata": {},
   "outputs": [
    {
     "name": "stdout",
     "output_type": "stream",
     "text": [
      "<class 'list'>\n",
      "<class 'list'>\n"
     ]
    }
   ],
   "source": [
    "# create two lists\n",
    "\n",
    "new_list1 = ['Messi', 10, 'Barcelona', True]\n",
    "print(type(new_list1))\n",
    "\n",
    "new_list2 = [1, 3, 5, 7]\n",
    "print(type(new_list2))"
   ]
  },
  {
   "cell_type": "markdown",
   "id": "8de86e56-2a4d-422b-95ce-0ac0c620c5e7",
   "metadata": {},
   "source": [
    "Say you want to find the square of every number in the above list and have the outputs as a list to. First thing you notice, a list has elements of different data types, which means you can not really square all elements at once. However, for the list with the numbers, will we be able to do it as they are all integer data types? Let's see!"
   ]
  },
  {
   "cell_type": "code",
   "execution_count": 63,
   "id": "6a8471e4-1ca9-47b6-8445-37c319513477",
   "metadata": {},
   "outputs": [
    {
     "ename": "TypeError",
     "evalue": "unsupported operand type(s) for ** or pow(): 'list' and 'int'",
     "output_type": "error",
     "traceback": [
      "\u001b[0;31m---------------------------------------------------------------------------\u001b[0m",
      "\u001b[0;31mTypeError\u001b[0m                                 Traceback (most recent call last)",
      "Cell \u001b[0;32mIn[63], line 2\u001b[0m\n\u001b[1;32m      1\u001b[0m \u001b[38;5;66;03m# squaring the list gives you an error\u001b[39;00m\n\u001b[0;32m----> 2\u001b[0m ls_sq \u001b[38;5;241m=\u001b[39m \u001b[43mnew_list2\u001b[49m\u001b[38;5;241;43m*\u001b[39;49m\u001b[38;5;241;43m*\u001b[39;49m\u001b[38;5;241;43m2\u001b[39;49m\n",
      "\u001b[0;31mTypeError\u001b[0m: unsupported operand type(s) for ** or pow(): 'list' and 'int'"
     ]
    }
   ],
   "source": [
    "# squaring the list gives you an error\n",
    "ls_sq = new_list2**2"
   ]
  },
  {
   "cell_type": "markdown",
   "id": "05500f13-4316-4b38-b0f4-e35ab92f0ffe",
   "metadata": {},
   "source": [
    "However, now we try to create an array using the list and try doing the same operation."
   ]
  },
  {
   "cell_type": "code",
   "execution_count": 65,
   "id": "8bc1fc28-3232-4b92-8431-326b19daea26",
   "metadata": {},
   "outputs": [
    {
     "name": "stdout",
     "output_type": "stream",
     "text": [
      "[ 1  9 25 49]\n"
     ]
    }
   ],
   "source": [
    "new_arr = np.array(new_list2)\n",
    "new_arr_sqr = new_arr**2\n",
    "print(new_arr_sqr)"
   ]
  },
  {
   "cell_type": "markdown",
   "id": "1315023c-62df-4f96-86df-16b001a356ed",
   "metadata": {},
   "source": [
    "Well! you can see what happened. Arrays support arithmetic operations, but lists do not. This feature is going to be very useful as you try to work with your data, removing the hassle in writing complex programs for simple tasks."
   ]
  },
  {
   "cell_type": "markdown",
   "id": "16792c18-74a7-4cc9-a989-3c26306fd07c",
   "metadata": {},
   "source": [
    "##### Using array generating functions"
   ]
  },
  {
   "cell_type": "code",
   "execution_count": 69,
   "id": "9fd2dbbf-172a-43fa-898e-bcac6a35bd16",
   "metadata": {},
   "outputs": [
    {
     "name": "stdout",
     "output_type": "stream",
     "text": [
      "[1 2 3 4 5 6 7 8 9]\n",
      "[-1.00000000e+00 -9.00000000e-01 -8.00000000e-01 -7.00000000e-01\n",
      " -6.00000000e-01 -5.00000000e-01 -4.00000000e-01 -3.00000000e-01\n",
      " -2.00000000e-01 -1.00000000e-01 -2.22044605e-16  1.00000000e-01\n",
      "  2.00000000e-01  3.00000000e-01  4.00000000e-01  5.00000000e-01\n",
      "  6.00000000e-01  7.00000000e-01  8.00000000e-01  9.00000000e-01]\n"
     ]
    }
   ],
   "source": [
    "# use of arange\n",
    "x_range = np.arange(1,10,1)\n",
    "y_range = np.arange(-1,1,0.1)\n",
    "print(x_range)\n",
    "print(y_range)"
   ]
  },
  {
   "cell_type": "code",
   "execution_count": 82,
   "id": "1913e821-f053-4519-ac4c-1b63dd7ba1be",
   "metadata": {},
   "outputs": [
    {
     "name": "stdout",
     "output_type": "stream",
     "text": [
      "[ 0.          0.41666667  0.83333333  1.25        1.66666667  2.08333333\n",
      "  2.5         2.91666667  3.33333333  3.75        4.16666667  4.58333333\n",
      "  5.          5.41666667  5.83333333  6.25        6.66666667  7.08333333\n",
      "  7.5         7.91666667  8.33333333  8.75        9.16666667  9.58333333\n",
      " 10.        ] [1.00000000e+00 3.03773178e+00 9.22781435e+00 2.80316249e+01\n",
      " 8.51525577e+01 2.58670631e+02 7.85771994e+02 2.38696456e+03\n",
      " 7.25095809e+03 2.20264658e+04]\n"
     ]
    }
   ],
   "source": [
    "# use of linspace and logspace\n",
    "nx_range = np.linspace(0,10,25)\n",
    "ny_range = np.logspace(0,10,10, base=np.e)\n",
    "print(nx_range, ny_range)"
   ]
  },
  {
   "cell_type": "markdown",
   "id": "56862c96-c968-40bd-a383-6603c529f55b",
   "metadata": {},
   "source": [
    "Using `arange`, you can generate numbers with a defined time step, while using `linspace`, you can generate numbers with a defined number of points.\n",
    "\n",
    "As with lists, you can get the elements from the array using indexing and slicing."
   ]
  },
  {
   "cell_type": "markdown",
   "id": "7d237fed-f7d9-4f62-8859-fa3bf395f01b",
   "metadata": {},
   "source": [
    "##### Using data files"
   ]
  },
  {
   "cell_type": "markdown",
   "id": "1395173e-d564-4368-a63b-8404d28b100a",
   "metadata": {},
   "source": [
    "If you look into the data file attached `data_file.csv`, we have some statements starting with `#`, followed by two columns of numbers separated by commas. This is a data file, commonly called `csv` file. CSV stands for Comma Separated Values, and the file format follows from the name. Statements starting with `#` are ignored by the function `loadtxt`, so they act like comments here. When you import using the function, you need to specify what delimiter you are using: comma, tab, colon, etc. Let's see how we can use the `loadtxt` function to load the data."
   ]
  },
  {
   "cell_type": "code",
   "execution_count": 88,
   "id": "bc8434f5-5a13-4b08-ad66-a47460a766dc",
   "metadata": {},
   "outputs": [],
   "source": [
    "data_file = np.loadtxt(\"data_file.csv\", delimiter=',')"
   ]
  },
  {
   "cell_type": "code",
   "execution_count": 93,
   "id": "1e4de205-61ba-4707-b184-e7d43332847d",
   "metadata": {},
   "outputs": [
    {
     "name": "stdout",
     "output_type": "stream",
     "text": [
      "[[ 1.  2.  3.  4.  5.  6.  7.  8.  9. 10. 11. 12. 13. 14. 15. 16. 17. 18.\n",
      "  19. 20.]\n",
      " [ 3.  5.  6.  7. 10. 13. 15. 16. 19. 20. 22. 24. 26. 29. 31. 33. 35. 36.\n",
      "  39. 41.]]\n"
     ]
    }
   ],
   "source": [
    "# transpose the data file and make the voltage and current variables\n",
    "data_t = data_file.T\n",
    "print(data_t)"
   ]
  },
  {
   "cell_type": "code",
   "execution_count": 95,
   "id": "3e0c471f-6aad-426a-b251-f8b5298afeeb",
   "metadata": {},
   "outputs": [
    {
     "name": "stdout",
     "output_type": "stream",
     "text": [
      "[ 1.  2.  3.  4.  5.  6.  7.  8.  9. 10. 11. 12. 13. 14. 15. 16. 17. 18.\n",
      " 19. 20.] [ 3.  5.  6.  7. 10. 13. 15. 16. 19. 20. 22. 24. 26. 29. 31. 33. 35. 36.\n",
      " 39. 41.]\n"
     ]
    }
   ],
   "source": [
    "voltage = data_t[0]\n",
    "current = data_t[1]\n",
    "print(voltage, current)"
   ]
  },
  {
   "cell_type": "markdown",
   "id": "683a2b6d-7d25-44b9-810c-92ce3553132c",
   "metadata": {},
   "source": [
    "Would not it be nice if we could just get the variables automatically than go through all this? There's a parameter `unpack`, which lets you do exactly that."
   ]
  },
  {
   "cell_type": "code",
   "execution_count": 97,
   "id": "e72ebf1d-8720-4c62-8ad7-984ef9fb1dbf",
   "metadata": {},
   "outputs": [
    {
     "name": "stdout",
     "output_type": "stream",
     "text": [
      "[ 1.  2.  3.  4.  5.  6.  7.  8.  9. 10. 11. 12. 13. 14. 15. 16. 17. 18.\n",
      " 19. 20.] [ 3.  5.  6.  7. 10. 13. 15. 16. 19. 20. 22. 24. 26. 29. 31. 33. 35. 36.\n",
      " 39. 41.]\n"
     ]
    }
   ],
   "source": [
    "vol, cur = np.loadtxt(\"data_file.csv\", delimiter=',', unpack= True)\n",
    "print(vol, cur)"
   ]
  },
  {
   "cell_type": "markdown",
   "id": "cbc7821c-2694-406c-8365-8de9dac007d0",
   "metadata": {},
   "source": [
    "Voila! we get the same result using the `unpack` parameter in the `loadtxt` function. We'll see more details of getting data files in python in the graphing session. This is extremely important part of your laboratory, during data analysis."
   ]
  },
  {
   "cell_type": "markdown",
   "id": "02a2fd1b-4339-445c-ba64-61d7437de9e0",
   "metadata": {},
   "source": [
    "### Matplotlib"
   ]
  },
  {
   "cell_type": "markdown",
   "id": "5bd41ff7-2433-4d30-b376-869644d85f77",
   "metadata": {},
   "source": [
    "Matplotlib is a 2D and 3D graphics library in python for generating scientific figures. As you'll be working with data visualisation, this is another important tool you'll have to get used to for the lab. We'll look into simple visualisations and see how we can use our data files."
   ]
  },
  {
   "cell_type": "code",
   "execution_count": 98,
   "id": "7e4896c1-c9ab-4c51-8eae-e2a4f4b794bb",
   "metadata": {},
   "outputs": [],
   "source": [
    "# import the pyplot module, which implements the plotting function\n",
    "import matplotlib.pyplot as plt"
   ]
  },
  {
   "cell_type": "markdown",
   "id": "0bd98288-6897-4a7a-bf89-0d4dde57c9c8",
   "metadata": {},
   "source": [
    "Let us plot a simple function, the `sine`."
   ]
  },
  {
   "cell_type": "code",
   "execution_count": 148,
   "id": "6859172b-5f43-4af2-a1ef-b92222204dc7",
   "metadata": {},
   "outputs": [
    {
     "name": "stdout",
     "output_type": "stream",
     "text": [
      "[-4.         -3.91919192 -3.83838384 -3.75757576 -3.67676768 -3.5959596\n",
      " -3.51515152 -3.43434343 -3.35353535 -3.27272727 -3.19191919 -3.11111111\n",
      " -3.03030303 -2.94949495 -2.86868687 -2.78787879 -2.70707071 -2.62626263\n",
      " -2.54545455 -2.46464646 -2.38383838 -2.3030303  -2.22222222 -2.14141414\n",
      " -2.06060606 -1.97979798 -1.8989899  -1.81818182 -1.73737374 -1.65656566\n",
      " -1.57575758 -1.49494949 -1.41414141 -1.33333333 -1.25252525 -1.17171717\n",
      " -1.09090909 -1.01010101 -0.92929293 -0.84848485 -0.76767677 -0.68686869\n",
      " -0.60606061 -0.52525253 -0.44444444 -0.36363636 -0.28282828 -0.2020202\n",
      " -0.12121212 -0.04040404  0.04040404  0.12121212  0.2020202   0.28282828\n",
      "  0.36363636  0.44444444  0.52525253  0.60606061  0.68686869  0.76767677\n",
      "  0.84848485  0.92929293  1.01010101  1.09090909  1.17171717  1.25252525\n",
      "  1.33333333  1.41414141  1.49494949  1.57575758  1.65656566  1.73737374\n",
      "  1.81818182  1.8989899   1.97979798  2.06060606  2.14141414  2.22222222\n",
      "  2.3030303   2.38383838  2.46464646  2.54545455  2.62626263  2.70707071\n",
      "  2.78787879  2.86868687  2.94949495  3.03030303  3.11111111  3.19191919\n",
      "  3.27272727  3.35353535  3.43434343  3.51515152  3.5959596   3.67676768\n",
      "  3.75757576  3.83838384  3.91919192  4.        ] [ 0.7568025   0.70157068  0.64176014  0.57776122  0.5099916   0.43889357\n",
      "  0.36493116  0.28858706  0.21035953  0.1307591   0.0503053  -0.03047682\n",
      " -0.11106004 -0.19091843 -0.26953082 -0.34638414 -0.42097682 -0.49282204\n",
      " -0.56145091 -0.62641554 -0.68729192 -0.74368277 -0.79522006 -0.84156742\n",
      " -0.88242239 -0.91751832 -0.94662616 -0.96955595 -0.98615803 -0.99632407\n",
      " -0.99998769 -0.99712501 -0.98775469 -0.9719379  -0.94977786 -0.9214192\n",
      " -0.88704699 -0.84688556 -0.80119703 -0.75027957 -0.69446549 -0.63411905\n",
      " -0.56963411 -0.5014315  -0.42995636 -0.35567516 -0.27907268 -0.20064886\n",
      " -0.12091552 -0.04039305  0.04039305  0.12091552  0.20064886  0.27907268\n",
      "  0.35567516  0.42995636  0.5014315   0.56963411  0.63411905  0.69446549\n",
      "  0.75027957  0.80119703  0.84688556  0.88704699  0.9214192   0.94977786\n",
      "  0.9719379   0.98775469  0.99712501  0.99998769  0.99632407  0.98615803\n",
      "  0.96955595  0.94662616  0.91751832  0.88242239  0.84156742  0.79522006\n",
      "  0.74368277  0.68729192  0.62641554  0.56145091  0.49282204  0.42097682\n",
      "  0.34638414  0.26953082  0.19091843  0.11106004  0.03047682 -0.0503053\n",
      " -0.1307591  -0.21035953 -0.28858706 -0.36493116 -0.43889357 -0.5099916\n",
      " -0.57776122 -0.64176014 -0.70157068 -0.7568025 ]\n"
     ]
    }
   ],
   "source": [
    "# generate the arrays\n",
    "x = np.linspace(-4,4,100)\n",
    "y = np.sin(x)\n",
    "print(x,y)"
   ]
  },
  {
   "cell_type": "code",
   "execution_count": 149,
   "id": "dcacab29-f8fd-4a88-9016-bff76d7608b3",
   "metadata": {},
   "outputs": [
    {
     "data": {
      "text/plain": [
       "[<matplotlib.lines.Line2D at 0x7f867a378e50>]"
      ]
     },
     "execution_count": 149,
     "metadata": {},
     "output_type": "execute_result"
    },
    {
     "data": {
      "image/png": "[encoded data removed]",
      "text/plain": [
       "<Figure size 640x480 with 1 Axes>"
      ]
     },
     "metadata": {},
     "output_type": "display_data"
    }
   ],
   "source": [
    "# plot them\n",
    "plt.plot(x,y,'r')"
   ]
  },
  {
   "cell_type": "markdown",
   "id": "9c547c68-918c-4477-964c-ecccf1e6e966",
   "metadata": {},
   "source": [
    "##### Customising your plots\n",
    "\n",
    "As you go through some published papers, the graphs have something more substantive: labels, units, legends, and maybe more. Matplotlib provides us with the tools that allow us to do so. A good way of creating plots is using the `Figure` class instance `fig`. We will not go into details of classes and the object-oriented programming for now, however, it's good to follow the object-oriented API, in a fairly straight-forward manner for figures."
   ]
  },
  {
   "cell_type": "code",
   "execution_count": 163,
   "id": "de3fce65-16cd-47bb-a848-43ee4f8f03b9",
   "metadata": {},
   "outputs": [
    {
     "data": {
      "text/plain": [
       "Text(0, 0.5, 'y')"
      ]
     },
     "execution_count": 163,
     "metadata": {},
     "output_type": "execute_result"
    },
    {
     "data": {
      "image/png": "[encoded data removed]",
      "text/plain": [
       "<Figure size 640x480 with 1 Axes>"
      ]
     },
     "metadata": {},
     "output_type": "display_data"
    }
   ],
   "source": [
    "# create a figure instance\n",
    "fig = plt.figure()\n",
    "\n",
    "# define your axes\n",
    "axes = fig.add_axes([0, 0, 0.8, 0.8])\n",
    "\n",
    "axes.plot(x,y,'r')\n",
    "axes.set_xlabel('x')\n",
    "axes.set_ylabel('y')"
   ]
  },
  {
   "cell_type": "code",
   "execution_count": 164,
   "id": "b2457e3b-606e-4711-9c99-626fb45c475d",
   "metadata": {},
   "outputs": [
    {
     "data": {
      "text/plain": [
       "Text(0, 0.5, 'x')"
      ]
     },
     "execution_count": 164,
     "metadata": {},
     "output_type": "execute_result"
    },
    {
     "data": {
      "image/png": "[encoded data removed]",
      "text/plain": [
       "<Figure size 640x480 with 2 Axes>"
      ]
     },
     "metadata": {},
     "output_type": "display_data"
    }
   ],
   "source": [
    "x = np.linspace(0, 5, 100)\n",
    "y = x ** (1/2)\n",
    "\n",
    "fig = plt.figure()\n",
    "\n",
    "axes1 = fig.add_axes([0.1, 0.1, 0.8, 0.8]) # main axes\n",
    "axes2 = fig.add_axes([0.4, 0.3, 0.4, 0.23]) # inset axes\n",
    "\n",
    "# main figure\n",
    "axes1.plot(x, y, 'r')\n",
    "axes1.set_xlabel('x')\n",
    "axes1.set_ylabel('y')\n",
    "\n",
    "# inset\n",
    "axes2.plot(y, x, 'g')\n",
    "axes2.set_xlabel('y')\n",
    "axes2.set_ylabel('x')"
   ]
  },
  {
   "cell_type": "markdown",
   "id": "7e79689d-cc3d-404f-a161-94de01bc89b9",
   "metadata": {},
   "source": [
    "If we do not care about where to place these axes, we can use subplots. Now, you can see how we are making use of the control statements we learnt earlier. You can of course tweak this to your liking and plot for different variables."
   ]
  },
  {
   "cell_type": "code",
   "execution_count": 165,
   "id": "51510243-ee0b-4285-af81-6828c1bbecdb",
   "metadata": {},
   "outputs": [
    {
     "data": {
      "text/plain": [
       "Text(0, 0.5, 'y')"
      ]
     },
     "execution_count": 165,
     "metadata": {},
     "output_type": "execute_result"
    },
    {
     "data": {
      "image/png": "[encoded data removed]",
      "text/plain": [
       "<Figure size 640x480 with 2 Axes>"
      ]
     },
     "metadata": {},
     "output_type": "display_data"
    }
   ],
   "source": [
    "# create a subplot with one row and two columns\n",
    "fig, axes = plt.subplots(nrows=1, ncols=2)\n",
    "\n",
    "# plot using indexing\n",
    "\n",
    "# first plot\n",
    "axes[0].plot(y,x,'r')\n",
    "axes[0].set_xlabel('y')\n",
    "axes[0].set_ylabel('x')\n",
    "\n",
    "# second plot\n",
    "axes[1].plot(x,y,'g')\n",
    "axes[1].set_xlabel('x')\n",
    "axes[1].set_ylabel('y')"
   ]
  },
  {
   "cell_type": "markdown",
   "id": "0048ab04-1d46-4b26-b145-479776200ca3",
   "metadata": {},
   "source": [
    "Well, we have gotten what we intended, but does not look that good. We can use `fig.tight_layout` to fix that."
   ]
  },
  {
   "cell_type": "code",
   "execution_count": 166,
   "id": "94c8f3f5-184d-4ae9-a460-366284c11f3c",
   "metadata": {},
   "outputs": [
    {
     "data": {
      "image/png": "[encoded data removed]",
      "text/plain": [
       "<Figure size 640x480 with 2 Axes>"
      ]
     },
     "metadata": {},
     "output_type": "display_data"
    }
   ],
   "source": [
    "# create a subplot with one row and two columns\n",
    "fig, axes = plt.subplots(nrows=1, ncols=2)\n",
    "\n",
    "# plot using indexing\n",
    "\n",
    "# first plot\n",
    "axes[0].plot(y,x,'r')\n",
    "axes[0].set_xlabel('y')\n",
    "axes[0].set_ylabel('x')\n",
    "\n",
    "# second plot\n",
    "axes[1].plot(x,y,'g')\n",
    "axes[1].set_xlabel('x')\n",
    "axes[1].set_ylabel('y')\n",
    "\n",
    "fig.tight_layout()"
   ]
  },
  {
   "cell_type": "markdown",
   "id": "a62f8d10-b1da-4f10-9bab-fb030c746736",
   "metadata": {},
   "source": [
    "You can also tweak the figure size and the DPI (dots-per-inch) of your figure. To do it's fairly simple: `fig = plt.figure(figsize=(8,4), dpi=100)`"
   ]
  },
  {
   "cell_type": "markdown",
   "id": "f62bd5bb-70a5-4aab-8343-eaa970b87999",
   "metadata": {},
   "source": [
    "To create scatter plots, you can use `plt.scatter`. We'll see a quick example and look into graphing, data analysis, and curve fitting in the next session."
   ]
  },
  {
   "cell_type": "markdown",
   "id": "81bfd643-a400-48e3-87f4-db844d8c4bcb",
   "metadata": {},
   "source": [
    "Using our data of voltage and current, we will create a scatter plot of the data points."
   ]
  },
  {
   "cell_type": "code",
   "execution_count": 183,
   "id": "20f565b0-46f1-4330-8a1a-fb1dfd36ce45",
   "metadata": {},
   "outputs": [
    {
     "data": {
      "text/plain": [
       "Text(0, 0.5, 'Current , $I$ ($\\\\mu$A)')"
      ]
     },
     "execution_count": 183,
     "metadata": {},
     "output_type": "execute_result"
    },
    {
     "data": {
      "image/png": "[encoded data removed]",
      "text/plain": [
       "<Figure size 640x480 with 1 Axes>"
      ]
     },
     "metadata": {},
     "output_type": "display_data"
    }
   ],
   "source": [
    "# create a figure instance\n",
    "fig = plt.figure()\n",
    "\n",
    "# define your axes\n",
    "axes = fig.add_axes([0, 0, 0.8, 0.8])\n",
    "\n",
    "axes.scatter(vol,cur, color='k')\n",
    "axes.set_xlabel(r'Voltage , $V$ (V)')\n",
    "axes.set_ylabel(r'Current , $I$ ($\\mu$A)')"
   ]
  },
  {
   "cell_type": "markdown",
   "id": "8256bbc4-ea66-4197-bd36-f06a380e9a37",
   "metadata": {},
   "source": [
    "Next session, we will learn how to fit the above data to a theoretical model, which is Ohm's law in this case as well as add error bars."
   ]
  },
  {
   "cell_type": "markdown",
   "id": "e6690528-34b3-45f3-bac7-be77ed30aa7a",
   "metadata": {},
   "source": [
    "#### References\n",
    "\n",
    "1. Miniforge, [Miniforge Github](https://github.com/conda-forge/miniforge)\n",
    "2. Robert Johansson, [Lectures on Scientific Computing with Python](https://github.com/jrjohansson/scientific-python-lectures)\n",
    "3. Philip Cherian, [Graphing in Python](https://github.com/dpcherian/dpcherian.github.io/blob/main/teaching/PHY1010/Session2/Graphing_with_Python/code/Session_2_Graphing_with_Python.ipynb)"
   ]
  }
 ],
 "metadata": {
  "kernelspec": {
   "display_name": "Python 3 (ipykernel)",
   "language": "python",
   "name": "python3"
  },
  "language_info": {
   "codemirror_mode": {
    "name": "ipython",
    "version": 3
   },
   "file_extension": ".py",
   "mimetype": "text/x-python",
   "name": "python",
   "nbconvert_exporter": "python",
   "pygments_lexer": "ipython3",
   "version": "3.11.7"
  }
 },
 "nbformat": 4,
 "nbformat_minor": 5
}
